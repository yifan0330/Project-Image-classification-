{
 "cells": [
  {
   "cell_type": "code",
   "execution_count": 1,
   "metadata": {},
   "outputs": [
    {
     "data": {
      "application/javascript": [
       "IPython.notebook.set_autosave_interval(60000)"
      ]
     },
     "metadata": {},
     "output_type": "display_data"
    },
    {
     "name": "stdout",
     "output_type": "stream",
     "text": [
      "Autosaving every 60 seconds\n"
     ]
    },
    {
     "name": "stderr",
     "output_type": "stream",
     "text": [
      "Using TensorFlow backend.\n"
     ]
    }
   ],
   "source": [
    "%autosave 60\n",
    "import numpy as np\n",
    "import keras \n",
    "from keras.datasets import mnist\n",
    "from keras.models import Sequential \n",
    "from keras.layers import Dense, Dropout, Flatten\n",
    "from keras.layers import Conv2D, MaxPooling2D\n",
    "from keras.optimizers import RMSprop\n",
    "import matplotlib.pyplot as plt\n",
    "from keras.applications.resnet50 import ResNet50"
   ]
  },
  {
   "cell_type": "markdown",
   "metadata": {},
   "source": [
    "### import the MNIST dataset"
   ]
  },
  {
   "cell_type": "code",
   "execution_count": 8,
   "metadata": {},
   "outputs": [],
   "source": [
    "number_of_classes = 10\n",
    "# x_train, x_test: uint8 array of grayscale image data with shape (num_samples, 28, 28).\n",
    "# y_train, y_test: uint8 array of digit labels (integers in range 0-9) with shape (num_samples,).\n",
    "(x_train, y_train), (x_test, y_test) = mnist.load_data()\n",
    "x_train = x_train.reshape(60000, 784)\n",
    "x_test = x_test.reshape(10000, 784)\n",
    "#convert grayscale into value between 0 and 1\n",
    "x_train = x_train/255\n",
    "x_test = x_test/255\n",
    "\n",
    "#convert the classification label into binary class matrix-size 1x10\n",
    "y_train = keras.utils.to_categorical(y_train, number_of_classes)\n",
    "y_test = keras.utils.to_categorical(y_test, number_of_classes)\n",
    "\n"
   ]
  },
  {
   "cell_type": "markdown",
   "metadata": {},
   "source": [
    "### Multilayer perceptron(MLP)"
   ]
  },
  {
   "cell_type": "code",
   "execution_count": 3,
   "metadata": {
    "scrolled": true
   },
   "outputs": [
    {
     "name": "stdout",
     "output_type": "stream",
     "text": [
      "_________________________________________________________________\n",
      "Layer (type)                 Output Shape              Param #   \n",
      "=================================================================\n",
      "dense_1 (Dense)              (None, 512)               401920    \n",
      "_________________________________________________________________\n",
      "dropout_1 (Dropout)          (None, 512)               0         \n",
      "_________________________________________________________________\n",
      "dense_2 (Dense)              (None, 512)               262656    \n",
      "_________________________________________________________________\n",
      "dropout_2 (Dropout)          (None, 512)               0         \n",
      "_________________________________________________________________\n",
      "dense_3 (Dense)              (None, 10)                5130      \n",
      "=================================================================\n",
      "Total params: 669,706\n",
      "Trainable params: 669,706\n",
      "Non-trainable params: 0\n",
      "_________________________________________________________________\n",
      "Train on 54000 samples, validate on 6000 samples\n",
      "Epoch 1/20\n",
      "17920/54000 [========>.....................] - ETA: 4s - loss: 0.6955 - acc: 0.7831"
     ]
    },
    {
     "name": "stderr",
     "output_type": "stream",
     "text": [
      "/usr/local/src/incubator-mxnet/python/mxnet/module/bucketing_module.py:408: UserWarning: Optimizer created manually outside Module but rescale_grad is not normalized to 1.0/batch_size/num_workers (1.0 vs. 0.001953125). Is this intended?\n",
      "  force_init=force_init)\n"
     ]
    },
    {
     "name": "stdout",
     "output_type": "stream",
     "text": [
      "54000/54000 [==============================] - 3s 51us/step - loss: 0.4131 - acc: 0.8728 - val_loss: 0.1368 - val_acc: 0.9587\n",
      "Epoch 2/20\n",
      "54000/54000 [==============================] - 1s 9us/step - loss: 0.1568 - acc: 0.9520 - val_loss: 0.1059 - val_acc: 0.9698\n",
      "Epoch 3/20\n",
      "54000/54000 [==============================] - 0s 8us/step - loss: 0.1066 - acc: 0.9666 - val_loss: 0.0776 - val_acc: 0.9762\n",
      "Epoch 4/20\n",
      "54000/54000 [==============================] - 0s 8us/step - loss: 0.0778 - acc: 0.9755 - val_loss: 0.0730 - val_acc: 0.9770\n",
      "Epoch 5/20\n",
      "54000/54000 [==============================] - 0s 8us/step - loss: 0.0614 - acc: 0.9813 - val_loss: 0.0700 - val_acc: 0.9788\n",
      "Epoch 6/20\n",
      "54000/54000 [==============================] - 1s 10us/step - loss: 0.0506 - acc: 0.9834 - val_loss: 0.0846 - val_acc: 0.9732\n",
      "Epoch 7/20\n",
      "54000/54000 [==============================] - 1s 10us/step - loss: 0.0411 - acc: 0.9867 - val_loss: 0.0703 - val_acc: 0.9802\n",
      "Epoch 8/20\n",
      "54000/54000 [==============================] - 0s 9us/step - loss: 0.0343 - acc: 0.9886 - val_loss: 0.0693 - val_acc: 0.9807\n",
      "Epoch 9/20\n",
      "54000/54000 [==============================] - 1s 9us/step - loss: 0.0296 - acc: 0.9904 - val_loss: 0.0677 - val_acc: 0.9830\n",
      "Epoch 10/20\n",
      "54000/54000 [==============================] - 1s 9us/step - loss: 0.0254 - acc: 0.9915 - val_loss: 0.0684 - val_acc: 0.9822\n",
      "Epoch 11/20\n",
      "54000/54000 [==============================] - 1s 9us/step - loss: 0.0223 - acc: 0.9924 - val_loss: 0.0697 - val_acc: 0.9840\n",
      "Epoch 12/20\n",
      "54000/54000 [==============================] - 1s 9us/step - loss: 0.0185 - acc: 0.9940 - val_loss: 0.0631 - val_acc: 0.9842\n",
      "Epoch 13/20\n",
      "54000/54000 [==============================] - 0s 9us/step - loss: 0.0189 - acc: 0.9936 - val_loss: 0.0721 - val_acc: 0.9825\n",
      "Epoch 14/20\n",
      "54000/54000 [==============================] - 0s 9us/step - loss: 0.0166 - acc: 0.9944 - val_loss: 0.0735 - val_acc: 0.9845\n",
      "Epoch 15/20\n",
      "54000/54000 [==============================] - 0s 9us/step - loss: 0.0150 - acc: 0.9949 - val_loss: 0.0742 - val_acc: 0.9832\n",
      "Epoch 16/20\n",
      "54000/54000 [==============================] - 0s 8us/step - loss: 0.0141 - acc: 0.9951 - val_loss: 0.0752 - val_acc: 0.9845\n",
      "Epoch 17/20\n",
      "54000/54000 [==============================] - 1s 10us/step - loss: 0.0118 - acc: 0.9959 - val_loss: 0.0787 - val_acc: 0.9838\n",
      "Epoch 18/20\n",
      "54000/54000 [==============================] - 0s 8us/step - loss: 0.0116 - acc: 0.9962 - val_loss: 0.0825 - val_acc: 0.9818\n",
      "Epoch 19/20\n",
      "54000/54000 [==============================] - 0s 9us/step - loss: 0.0108 - acc: 0.9962 - val_loss: 0.0659 - val_acc: 0.9860\n",
      "Epoch 20/20\n",
      "54000/54000 [==============================] - 0s 8us/step - loss: 0.0088 - acc: 0.9969 - val_loss: 0.0817 - val_acc: 0.9838\n",
      "The test loss is 0.07875755216039419\n",
      "The test accuracy is 0.9826\n"
     ]
    }
   ],
   "source": [
    "#The Sequential model is a linear stack of layers.\n",
    "model = Sequential() \n",
    "#only the first layer in Sequential model needs input shape.\n",
    "#ReLU(Rectified Linear Unit)is used in almost all the convolutional neural networks\n",
    "#f(x)=max(x,0)\n",
    "model.add(Dense(512, activation='relu', input_shape=(784,)))#add layers\n",
    "#Dropout is a regularization technique for reducing overfitting \n",
    "#in neural networks by preventing complex co-adaptations on training data.\n",
    "model.add(Dropout(0.2)) #drop 20% of input units\n",
    "model.add(Dense(512, activation='relu'))\n",
    "model.add(Dropout(0.3))\n",
    "model.add(Dense(number_of_classes, activation='softmax'))\n",
    "#to print a summary representation of your model. \n",
    "model.summary()\n",
    "\n",
    "#Configure the model for training\n",
    "model.compile(optimizer=RMSprop(), #recurrent neural networks\n",
    "              loss='categorical_crossentropy',\n",
    "              metrics=['accuracy']) \n",
    "#A metric is used to judge the performance of the model. \n",
    "\n",
    "#Train the model for a given number of epochs (iterations on a dataset).\n",
    "#batch_size: Number of samples per gradient update\n",
    "batch_size = 512\n",
    "#epochs:Number of epochs to train the model. \n",
    "#An epoch is an iteration over the entire x and y data provided.\n",
    "epochs = 20\n",
    "#validation_data:  evaluate the loss and any model metrics at the end of each epoch\n",
    "#The model will not be trained on this data. \n",
    "fit_model = model.fit(x_train, y_train,\n",
    "                    batch_size=batch_size,\n",
    "                    epochs=epochs,\n",
    "                    verbose=1,\n",
    "                    validation_split=0.10)\n",
    "#Return the loss value & metrics values for the model in test mode.\n",
    "#Computation is done in batches.\n",
    "performance = model.evaluate(x_test, y_test, verbose=0)\n",
    "print(\"The test loss is\",performance[0])\n",
    "print(\"The test accuracy is\",performance[1])"
   ]
  },
  {
   "cell_type": "markdown",
   "metadata": {},
   "source": [
    "### plot the training loss and validation loss"
   ]
  },
  {
   "cell_type": "code",
   "execution_count": 17,
   "metadata": {
    "scrolled": true
   },
   "outputs": [
    {
     "data": {
      "image/png": "[encoded data removed]",
      "text/plain": [
       "<matplotlib.figure.Figure at 0x7f636ba7bc50>"
      ]
     },
     "metadata": {},
     "output_type": "display_data"
    }
   ],
   "source": [
    "loss = fit_model.history['loss']\n",
    "val_loss = fit_model.history['val_loss']\n",
    "epochs = range(1, len(loss) + 1)\n",
    "plt.plot(epochs, loss, 'yo', label='Training loss')\n",
    "plt.plot(epochs, val_loss, 'royalblue', label='Validation loss')\n",
    "plt.title('Training loss and validation loss')\n",
    "plt.xlabel('epochs')\n",
    "plt.ylabel('loss')\n",
    "plt.legend()\n",
    "plt.show()"
   ]
  },
  {
   "cell_type": "markdown",
   "metadata": {},
   "source": [
    "### plot the training accuracy and validation accuracy"
   ]
  },
  {
   "cell_type": "code",
   "execution_count": 16,
   "metadata": {},
   "outputs": [
    {
     "data": {
      "image/png": "[encoded data removed]",
      "text/plain": [
       "<matplotlib.figure.Figure at 0x7f636bb68b00>"
      ]
     },
     "metadata": {},
     "output_type": "display_data"
    }
   ],
   "source": [
    "plt.clf()\n",
    "acc = fit_model.history['acc']\n",
    "val_acc = fit_model.history['val_acc']\n",
    "plt.plot(epochs, acc, 'yo', label='Training accuracy')\n",
    "plt.plot(epochs, val_acc, 'royalblue', label='Validation accuracy')\n",
    "plt.title('Training accuracy and validation accuracy')\n",
    "plt.xlabel('epochs')\n",
    "plt.ylabel('loss')\n",
    "plt.legend()\n",
    "plt.show()"
   ]
  },
  {
   "cell_type": "markdown",
   "metadata": {},
   "source": [
    "### convolutional neural network(CNN)"
   ]
  },
  {
   "cell_type": "code",
   "execution_count": 22,
   "metadata": {},
   "outputs": [
    {
     "name": "stdout",
     "output_type": "stream",
     "text": [
      "Train on 54000 samples, validate on 6000 samples\n",
      "Epoch 1/20\n",
      " 1536/54000 [..............................] - ETA: 6s - loss: 2.1972 - acc: 0.1875"
     ]
    },
    {
     "name": "stderr",
     "output_type": "stream",
     "text": [
      "/usr/local/src/incubator-mxnet/python/mxnet/module/bucketing_module.py:408: UserWarning: Optimizer created manually outside Module but rescale_grad is not normalized to 1.0/batch_size/num_workers (1.0 vs. 0.001953125). Is this intended?\n",
      "  force_init=force_init)\n"
     ]
    },
    {
     "name": "stdout",
     "output_type": "stream",
     "text": [
      "54000/54000 [==============================] - 5s 93us/step - loss: 0.5244 - acc: 0.8357 - val_loss: 0.1536 - val_acc: 0.9583\n",
      "Epoch 2/20\n",
      "54000/54000 [==============================] - 5s 93us/step - loss: 0.1381 - acc: 0.9593 - val_loss: 0.0632 - val_acc: 0.9823\n",
      "Epoch 3/20\n",
      "54000/54000 [==============================] - 5s 92us/step - loss: 0.0871 - acc: 0.9730 - val_loss: 0.0547 - val_acc: 0.9848\n",
      "Epoch 4/20\n",
      "54000/54000 [==============================] - 5s 92us/step - loss: 0.0666 - acc: 0.9800 - val_loss: 0.0496 - val_acc: 0.9852\n",
      "Epoch 5/20\n",
      "54000/54000 [==============================] - 5s 92us/step - loss: 0.0540 - acc: 0.9833 - val_loss: 0.0435 - val_acc: 0.9890\n",
      "Epoch 6/20\n",
      "54000/54000 [==============================] - 5s 92us/step - loss: 0.0455 - acc: 0.9857 - val_loss: 0.0412 - val_acc: 0.9877\n",
      "Epoch 7/20\n",
      "54000/54000 [==============================] - 5s 92us/step - loss: 0.0397 - acc: 0.9876 - val_loss: 0.0366 - val_acc: 0.9903\n",
      "Epoch 8/20\n",
      "54000/54000 [==============================] - 5s 92us/step - loss: 0.0340 - acc: 0.9889 - val_loss: 0.0411 - val_acc: 0.9895\n",
      "Epoch 9/20\n",
      "54000/54000 [==============================] - 5s 92us/step - loss: 0.0300 - acc: 0.9898 - val_loss: 0.0364 - val_acc: 0.9905\n",
      "Epoch 10/20\n",
      "54000/54000 [==============================] - 5s 92us/step - loss: 0.0275 - acc: 0.9909 - val_loss: 0.0355 - val_acc: 0.9912\n",
      "Epoch 11/20\n",
      "54000/54000 [==============================] - 5s 92us/step - loss: 0.0232 - acc: 0.9921 - val_loss: 0.0399 - val_acc: 0.9905\n",
      "Epoch 12/20\n",
      "54000/54000 [==============================] - 5s 92us/step - loss: 0.0216 - acc: 0.9932 - val_loss: 0.0394 - val_acc: 0.9913\n",
      "Epoch 13/20\n",
      "54000/54000 [==============================] - 5s 92us/step - loss: 0.0202 - acc: 0.9933 - val_loss: 0.0345 - val_acc: 0.9910\n",
      "Epoch 14/20\n",
      "54000/54000 [==============================] - 5s 92us/step - loss: 0.0163 - acc: 0.9944 - val_loss: 0.0372 - val_acc: 0.9920\n",
      "Epoch 15/20\n",
      "54000/54000 [==============================] - 5s 92us/step - loss: 0.0155 - acc: 0.9946 - val_loss: 0.0423 - val_acc: 0.9897\n",
      "Epoch 16/20\n",
      "54000/54000 [==============================] - 5s 92us/step - loss: 0.0150 - acc: 0.9953 - val_loss: 0.0412 - val_acc: 0.9910\n",
      "Epoch 17/20\n",
      "54000/54000 [==============================] - 5s 92us/step - loss: 0.0144 - acc: 0.9951 - val_loss: 0.0395 - val_acc: 0.9917\n",
      "Epoch 18/20\n",
      "54000/54000 [==============================] - 5s 92us/step - loss: 0.0133 - acc: 0.9958 - val_loss: 0.0378 - val_acc: 0.9907\n",
      "Epoch 19/20\n",
      "54000/54000 [==============================] - 5s 92us/step - loss: 0.0126 - acc: 0.9958 - val_loss: 0.0403 - val_acc: 0.9905\n",
      "Epoch 20/20\n",
      "54000/54000 [==============================] - 5s 92us/step - loss: 0.0125 - acc: 0.9957 - val_loss: 0.0442 - val_acc: 0.9902\n",
      "The test loss is 0.04122862118280991\n",
      "The test accuracy is 0.9882\n",
      "CPU times: user 12min 10s, sys: 14min 54s, total: 27min 4s\n",
      "Wall time: 1min 40s\n"
     ]
    }
   ],
   "source": [
    "%%time\n",
    "# dimension of the input images \n",
    "row_num = 28\n",
    "col_num = 28\n",
    "x_train = x_train.reshape(np.shape(x_train)[0], 1, row_num, col_num)\n",
    "x_test = x_test.reshape(np.shape(x_test)[0], 1, row_num, col_num)\n",
    "input_shape = (1,row_num, col_num)\n",
    "\n",
    "model = Sequential()\n",
    "#This layer creates a convolution kernel that is convolved with \n",
    "#the layer input to produce a tensor of outputs.\n",
    "model.add(Conv2D(64, #filters(Integer):the dimension of the output space \n",
    "                 kernel_size=(2, 2),#the height and width of the 2D convolution window\n",
    "                 activation='relu',\n",
    "                 input_shape=input_shape))\n",
    "model.add(Conv2D(128, (2, 2), activation='relu'))\n",
    "#(2, 2) will halve the input in both spatial dimension. \n",
    "model.add(MaxPooling2D(pool_size=(2, 2)))\n",
    "model.add(Dropout(0.25))\n",
    "#Return a copy of the array collapsed into one dimension.\n",
    "model.add(Flatten())\n",
    "model.add(Dense(256, activation='relu'))\n",
    "model.add(Dropout(0.5))\n",
    "model.add(Dense(number_of_classes, activation='softmax'))\n",
    "\n",
    "model.compile(loss=keras.losses.categorical_crossentropy,\n",
    "              optimizer= RMSprop(),\n",
    "              metrics=['accuracy'])\n",
    "\n",
    "fit_model_cnn = model.fit(x_train, y_train,\n",
    "                    batch_size=512,\n",
    "                    epochs=20,\n",
    "                    verbose=1,\n",
    "                    validation_split=0.10)\n",
    "performance = model.evaluate(x_test, y_test, verbose=0)\n",
    "print(\"The test loss is\",performance[0])\n",
    "print(\"The test accuracy is\",performance[1])"
   ]
  },
  {
   "cell_type": "code",
   "execution_count": 21,
   "metadata": {},
   "outputs": [
    {
     "name": "stdout",
     "output_type": "stream",
     "text": [
      "_________________________________________________________________\n",
      "Layer (type)                 Output Shape              Param #   \n",
      "=================================================================\n",
      "conv2d_3 (Conv2D)            (None, 64, 27, 27)        320       \n",
      "_________________________________________________________________\n",
      "conv2d_4 (Conv2D)            (None, 128, 26, 26)       32896     \n",
      "_________________________________________________________________\n",
      "max_pooling2d_2 (MaxPooling2 (None, 128, 13, 13)       0         \n",
      "_________________________________________________________________\n",
      "dropout_5 (Dropout)          (None, 128, 13, 13)       0         \n",
      "_________________________________________________________________\n",
      "flatten_2 (Flatten)          (None, 21632)             0         \n",
      "_________________________________________________________________\n",
      "dense_6 (Dense)              (None, 256)               5538048   \n",
      "_________________________________________________________________\n",
      "dropout_6 (Dropout)          (None, 256)               0         \n",
      "_________________________________________________________________\n",
      "dense_7 (Dense)              (None, 10)                2570      \n",
      "=================================================================\n",
      "Total params: 5,573,834\n",
      "Trainable params: 5,573,834\n",
      "Non-trainable params: 0\n",
      "_________________________________________________________________\n"
     ]
    }
   ],
   "source": [
    "model.summary()"
   ]
  },
  {
   "cell_type": "markdown",
   "metadata": {},
   "source": [
    "### plot the training loss and validation loss"
   ]
  },
  {
   "cell_type": "code",
   "execution_count": 19,
   "metadata": {},
   "outputs": [
    {
     "data": {
      "image/png": "[encoded data removed]",
      "text/plain": [
       "<matplotlib.figure.Figure at 0x7f63673d25c0>"
      ]
     },
     "metadata": {},
     "output_type": "display_data"
    }
   ],
   "source": [
    "loss = fit_model_cnn.history['loss']\n",
    "val_loss = fit_model_cnn.history['val_loss']\n",
    "epochs = range(1, len(loss) + 1)\n",
    "plt.plot(epochs, loss, 'yo', label='Training loss')\n",
    "plt.plot(epochs, val_loss, 'indigo', label='Validation loss')\n",
    "plt.title('Training loss and validation loss')\n",
    "plt.xlabel('epochs')\n",
    "plt.ylabel('loss')\n",
    "plt.legend()\n",
    "plt.show()"
   ]
  },
  {
   "cell_type": "markdown",
   "metadata": {},
   "source": [
    "### plot the training accuracy and validation accuracy"
   ]
  },
  {
   "cell_type": "code",
   "execution_count": 20,
   "metadata": {},
   "outputs": [
    {
     "data": {
      "image/png": "[encoded data removed]",
      "text/plain": [
       "<matplotlib.figure.Figure at 0x7f636bb15588>"
      ]
     },
     "metadata": {},
     "output_type": "display_data"
    }
   ],
   "source": [
    "plt.clf()\n",
    "acc = fit_model_cnn.history['acc']\n",
    "val_acc = fit_model_cnn.history['val_acc']\n",
    "plt.plot(epochs, acc, 'yo', label='Training accuracy')\n",
    "plt.plot(epochs, val_acc, 'indigo', label='Validation accuracy')\n",
    "plt.title('Training accuracy and validation accuracy')\n",
    "plt.xlabel('epochs')\n",
    "plt.ylabel('loss')\n",
    "plt.legend()\n",
    "plt.show()"
   ]
  },
  {
   "cell_type": "code",
   "execution_count": 4,
   "metadata": {},
   "outputs": [
    {
     "name": "stdout",
     "output_type": "stream",
     "text": [
      "(60000, 28, 28, 1)\n"
     ]
    },
    {
     "ename": "ValueError",
     "evalue": "The input must have 3 channels; got `input_shape=(28, 28, 1)`",
     "output_type": "error",
     "traceback": [
      "\u001b[0;31m---------------------------------------------------------------------------\u001b[0m",
      "\u001b[0;31mValueError\u001b[0m                                Traceback (most recent call last)",
      "\u001b[0;32m<ipython-input-4-aeb862ae9ee6>\u001b[0m in \u001b[0;36m<module>\u001b[0;34m()\u001b[0m\n\u001b[1;32m     19\u001b[0m conv_base = ResNet50(weights = 'imagenet',\n\u001b[1;32m     20\u001b[0m                   \u001b[0minclude_top\u001b[0m \u001b[0;34m=\u001b[0m \u001b[0;32mFalse\u001b[0m\u001b[0;34m,\u001b[0m\u001b[0;34m\u001b[0m\u001b[0m\n\u001b[0;32m---> 21\u001b[0;31m                   input_shape=input_shape)\n\u001b[0m\u001b[1;32m     22\u001b[0m \u001b[0;31m#conv_base.summary()\u001b[0m\u001b[0;34m\u001b[0m\u001b[0;34m\u001b[0m\u001b[0m\n\u001b[1;32m     23\u001b[0m \u001b[0;34m\u001b[0m\u001b[0m\n",
      "\u001b[0;32m/usr/local/lib/python3.5/dist-packages/keras/applications/__init__.py\u001b[0m in \u001b[0;36mwrapper\u001b[0;34m(*args, **kwargs)\u001b[0m\n\u001b[1;32m     26\u001b[0m             \u001b[0mkwargs\u001b[0m\u001b[0;34m[\u001b[0m\u001b[0;34m'models'\u001b[0m\u001b[0;34m]\u001b[0m \u001b[0;34m=\u001b[0m \u001b[0mmodels\u001b[0m\u001b[0;34m\u001b[0m\u001b[0m\n\u001b[1;32m     27\u001b[0m             \u001b[0mkwargs\u001b[0m\u001b[0;34m[\u001b[0m\u001b[0;34m'utils'\u001b[0m\u001b[0;34m]\u001b[0m \u001b[0;34m=\u001b[0m \u001b[0mutils\u001b[0m\u001b[0;34m\u001b[0m\u001b[0m\n\u001b[0;32m---> 28\u001b[0;31m         \u001b[0;32mreturn\u001b[0m \u001b[0mbase_fun\u001b[0m\u001b[0;34m(\u001b[0m\u001b[0;34m*\u001b[0m\u001b[0margs\u001b[0m\u001b[0;34m,\u001b[0m \u001b[0;34m**\u001b[0m\u001b[0mkwargs\u001b[0m\u001b[0;34m)\u001b[0m\u001b[0;34m\u001b[0m\u001b[0m\n\u001b[0m\u001b[1;32m     29\u001b[0m \u001b[0;34m\u001b[0m\u001b[0m\n\u001b[1;32m     30\u001b[0m     \u001b[0;32mreturn\u001b[0m \u001b[0mwrapper\u001b[0m\u001b[0;34m\u001b[0m\u001b[0m\n",
      "\u001b[0;32m/usr/local/lib/python3.5/dist-packages/keras/applications/resnet50.py\u001b[0m in \u001b[0;36mResNet50\u001b[0;34m(*args, **kwargs)\u001b[0m\n\u001b[1;32m      9\u001b[0m \u001b[0;34m@\u001b[0m\u001b[0mkeras_modules_injection\u001b[0m\u001b[0;34m\u001b[0m\u001b[0m\n\u001b[1;32m     10\u001b[0m \u001b[0;32mdef\u001b[0m \u001b[0mResNet50\u001b[0m\u001b[0;34m(\u001b[0m\u001b[0;34m*\u001b[0m\u001b[0margs\u001b[0m\u001b[0;34m,\u001b[0m \u001b[0;34m**\u001b[0m\u001b[0mkwargs\u001b[0m\u001b[0;34m)\u001b[0m\u001b[0;34m:\u001b[0m\u001b[0;34m\u001b[0m\u001b[0m\n\u001b[0;32m---> 11\u001b[0;31m     \u001b[0;32mreturn\u001b[0m \u001b[0mresnet50\u001b[0m\u001b[0;34m.\u001b[0m\u001b[0mResNet50\u001b[0m\u001b[0;34m(\u001b[0m\u001b[0;34m*\u001b[0m\u001b[0margs\u001b[0m\u001b[0;34m,\u001b[0m \u001b[0;34m**\u001b[0m\u001b[0mkwargs\u001b[0m\u001b[0;34m)\u001b[0m\u001b[0;34m\u001b[0m\u001b[0m\n\u001b[0m\u001b[1;32m     12\u001b[0m \u001b[0;34m\u001b[0m\u001b[0m\n\u001b[1;32m     13\u001b[0m \u001b[0;34m\u001b[0m\u001b[0m\n",
      "\u001b[0;32m/usr/local/lib/python3.5/dist-packages/keras_applications/resnet50.py\u001b[0m in \u001b[0;36mResNet50\u001b[0;34m(include_top, weights, input_tensor, input_shape, pooling, classes, **kwargs)\u001b[0m\n\u001b[1;32m    209\u001b[0m                                       \u001b[0mdata_format\u001b[0m\u001b[0;34m=\u001b[0m\u001b[0mbackend\u001b[0m\u001b[0;34m.\u001b[0m\u001b[0mimage_data_format\u001b[0m\u001b[0;34m(\u001b[0m\u001b[0;34m)\u001b[0m\u001b[0;34m,\u001b[0m\u001b[0;34m\u001b[0m\u001b[0m\n\u001b[1;32m    210\u001b[0m                                       \u001b[0mrequire_flatten\u001b[0m\u001b[0;34m=\u001b[0m\u001b[0minclude_top\u001b[0m\u001b[0;34m,\u001b[0m\u001b[0;34m\u001b[0m\u001b[0m\n\u001b[0;32m--> 211\u001b[0;31m                                       weights=weights)\n\u001b[0m\u001b[1;32m    212\u001b[0m \u001b[0;34m\u001b[0m\u001b[0m\n\u001b[1;32m    213\u001b[0m     \u001b[0;32mif\u001b[0m \u001b[0minput_tensor\u001b[0m \u001b[0;32mis\u001b[0m \u001b[0;32mNone\u001b[0m\u001b[0;34m:\u001b[0m\u001b[0;34m\u001b[0m\u001b[0m\n",
      "\u001b[0;32m/usr/local/lib/python3.5/dist-packages/keras_applications/imagenet_utils.py\u001b[0m in \u001b[0;36m_obtain_input_shape\u001b[0;34m(input_shape, default_size, min_size, data_format, require_flatten, weights)\u001b[0m\n\u001b[1;32m    314\u001b[0m                 \u001b[0;32mif\u001b[0m \u001b[0minput_shape\u001b[0m\u001b[0;34m[\u001b[0m\u001b[0;34m-\u001b[0m\u001b[0;36m1\u001b[0m\u001b[0;34m]\u001b[0m \u001b[0;34m!=\u001b[0m \u001b[0;36m3\u001b[0m \u001b[0;32mand\u001b[0m \u001b[0mweights\u001b[0m \u001b[0;34m==\u001b[0m \u001b[0;34m'imagenet'\u001b[0m\u001b[0;34m:\u001b[0m\u001b[0;34m\u001b[0m\u001b[0m\n\u001b[1;32m    315\u001b[0m                     raise ValueError('The input must have 3 channels; got '\n\u001b[0;32m--> 316\u001b[0;31m                                      '`input_shape=' + str(input_shape) + '`')\n\u001b[0m\u001b[1;32m    317\u001b[0m                 if ((input_shape[0] is not None and input_shape[0] < min_size) or\n\u001b[1;32m    318\u001b[0m                    (input_shape[1] is not None and input_shape[1] < min_size)):\n",
      "\u001b[0;31mValueError\u001b[0m: The input must have 3 channels; got `input_shape=(28, 28, 1)`"
     ]
    }
   ],
   "source": [
    "number_of_classes = 10\n",
    "(x_train, y_train), (x_test, y_test) = mnist.load_data()\n",
    "x_train = x_train/255\n",
    "x_test = x_test/255\n",
    "\n",
    "row_num = 28\n",
    "col_num = 28\n",
    "\n",
    "x_train = x_train.reshape(np.shape(x_train)[0], row_num, col_num,1)\n",
    "x_test = x_test.reshape(np.shape(x_test)[0], row_num, col_num,1)\n",
    "input_shape = (row_num, col_num,1)\n",
    "\n",
    "print(np.shape(x_train))\n",
    "#convert the classification label into binary class matrix-size 1x10\n",
    "y_train = keras.utils.to_categorical(y_train, number_of_classes)\n",
    "y_test = keras.utils.to_categorical(y_test, number_of_classes)\n",
    "\n",
    "\n",
    "conv_base = ResNet50(weights = 'imagenet',\n",
    "                  include_top = False,\n",
    "                  input_shape=input_shape)\n",
    "#conv_base.summary()\n",
    "\n",
    "model_resnet = Sequential()\n",
    "model_resnet.add(conv_base)\n",
    "model_resnet.add(Flatten())\n",
    "model_resnet.add(Dense(128,activation='relu'))\n",
    "model_resnet.add(Dropout(0.5))\n",
    "model_resnet.add(Dense(number_of_classes,activation='softmax'))\n",
    "\n",
    "print('The number of trainable weights before conv_base is frozen:', len(model_resnet.trainable_weights))\n",
    "# avoid the weights from pretrained model are modified during training \n",
    "conv_base.trainable = False\n",
    "print('The number of trainable weights after conv_base is frozen:', len(model_resnet.trainable_weights))\n",
    "\n",
    "model_resnet.compile(loss='categorical_crossentropy',\n",
    "              optimizer=optimizers.RMSprop(lr=2e-5),\n",
    "              metrics=['accuracy'])\n",
    "fit_model=model_resnet.fit(x_train, y_train,\n",
    "                    steps_per_epoch=32,validation_steps=50,epochs=100,verbose=1,\n",
    "                    validation_data=validation_generator)\n",
    "performance = model_resnet.evaluate(x_test, y_test, verbose=0)\n",
    "print(\"The test loss is\",performance[0])\n",
    "print(\"The test accuracy is\",performance[1])"
   ]
  },
  {
   "cell_type": "code",
   "execution_count": null,
   "metadata": {},
   "outputs": [],
   "source": []
  }
 ],
 "metadata": {
  "kernelspec": {
   "display_name": "Python 3",
   "language": "python",
   "name": "python3"
  },
  "language_info": {
   "codemirror_mode": {
    "name": "ipython",
    "version": 3
   },
   "file_extension": ".py",
   "mimetype": "text/x-python",
   "name": "python",
   "nbconvert_exporter": "python",
   "pygments_lexer": "ipython3",
   "version": "3.5.3"
  }
 },
 "nbformat": 4,
 "nbformat_minor": 2
}
