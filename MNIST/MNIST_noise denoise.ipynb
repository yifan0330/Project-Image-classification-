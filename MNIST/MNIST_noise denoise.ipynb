{
 "cells": [
  {
   "cell_type": "code",
   "execution_count": 2,
   "metadata": {},
   "outputs": [
    {
     "data": {
      "application/javascript": [
       "IPython.notebook.set_autosave_interval(60000)"
      ]
     },
     "metadata": {},
     "output_type": "display_data"
    },
    {
     "name": "stdout",
     "output_type": "stream",
     "text": [
      "Autosaving every 60 seconds\n"
     ]
    },
    {
     "name": "stderr",
     "output_type": "stream",
     "text": [
      "Using TensorFlow backend.\n"
     ]
    }
   ],
   "source": [
    "%autosave 60\n",
    "from keras.datasets import mnist\n",
    "import numpy as np\n",
    "import matplotlib.pyplot as plt\n",
    "from sklearn.ensemble import RandomForestClassifier\n",
    "from sklearn.linear_model import LogisticRegression\n",
    "from sklearn.discriminant_analysis import LinearDiscriminantAnalysis\n",
    "from sklearn import svm\n",
    "from keras.layers import Input, Dense, Conv2D, MaxPooling2D, UpSampling2D\n",
    "from keras.models import Model, Sequential\n",
    "import random\n",
    "import matplotlib.pyplot as plt"
   ]
  },
  {
   "cell_type": "code",
   "execution_count": 2,
   "metadata": {},
   "outputs": [],
   "source": [
    "(x_train, y_train), (x_test, y_test) = mnist.load_data()\n",
    "x_train = x_train.astype('float32') / 255\n",
    "x_test = x_test.astype('float32') / 255\n",
    "#convert to dim 4 (channels_first) for conv latter \n",
    "x_train = x_train.reshape(np.shape(x_train)[0],1,28,28)\n",
    "x_test = x_test.reshape(np.shape(x_test)[0],1,28,28)\n",
    "\n",
    "noise_factor = 0.4\n",
    "#random noise from a normal (Gaussian) distribution\n",
    "x_train_noise = x_train + noise_factor * np.random.normal(loc=0.0, scale=1.0, size=x_train.shape) \n",
    "x_test_noise = x_test + noise_factor * np.random.normal(loc=0.0, scale=1.0, size=x_test.shape) \n",
    "#limit the values in the interval [0,1]\n",
    "x_train_noise = np.clip(x_train_noise, a_min = 0, a_max = 1)\n",
    "x_test_noise = np.clip(x_test_noise, a_min = 0, a_max = 1)\n",
    "#convert to dim 4 (channels_first) for conv latter \n",
    "x_train_noise = x_train_noise.reshape(np.shape(x_train_noise)[0],1,28,28)\n",
    "x_test_noise = x_test_noise.reshape(np.shape(x_test_noise)[0],1,28,28)"
   ]
  },
  {
   "cell_type": "code",
   "execution_count": 3,
   "metadata": {},
   "outputs": [
    {
     "data": {
      "image/png": "[encoded data removed]",
      "text/plain": [
       "<matplotlib.figure.Figure at 0x7ff394396518>"
      ]
     },
     "metadata": {},
     "output_type": "display_data"
    }
   ],
   "source": [
    "n = 8\n",
    "plt.figure(figsize=(18, 2))\n",
    "for i in range(n):\n",
    "    ax = plt.subplot(1, n, i+1)\n",
    "    plt.imshow(x_test_noise[i].reshape(28, 28))\n",
    "    plt.gray()\n",
    "    ax.get_xaxis().set_visible(False)\n",
    "    ax.get_yaxis().set_visible(False)\n",
    "plt.show()"
   ]
  },
  {
   "cell_type": "code",
   "execution_count": 4,
   "metadata": {},
   "outputs": [],
   "source": [
    "x_train_noise_flatten = x_train_noise.reshape(60000,784)\n",
    "x_test_noise_flatten = x_test_noise.reshape(10000,784)"
   ]
  },
  {
   "cell_type": "markdown",
   "metadata": {},
   "source": [
    "### random forest/logistic regression/SVM with noisy images"
   ]
  },
  {
   "cell_type": "code",
   "execution_count": 8,
   "metadata": {},
   "outputs": [
    {
     "name": "stdout",
     "output_type": "stream",
     "text": [
      "The accuracy of random forest on test data is 0.7042\n",
      "CPU times: user 12.7 s, sys: 234 ms, total: 12.9 s\n",
      "Wall time: 12.9 s\n"
     ]
    }
   ],
   "source": [
    "%%time\n",
    "random_forest = RandomForestClassifier(n_estimators=10,bootstrap=True)\n",
    "random_forest.fit(x_train_noise_flatten, y_train)\n",
    "score_rf_noise = random_forest.score(x_test_noise_flatten, y_test)\n",
    "print(\"The accuracy of random forest on test data is\",score_rf_noise)"
   ]
  },
  {
   "cell_type": "code",
   "execution_count": 11,
   "metadata": {},
   "outputs": [
    {
     "name": "stderr",
     "output_type": "stream",
     "text": [
      "/usr/local/lib/python3.5/dist-packages/sklearn/linear_model/logistic.py:433: FutureWarning: Default solver will be changed to 'lbfgs' in 0.22. Specify a solver to silence this warning.\n",
      "  FutureWarning)\n",
      "/usr/local/lib/python3.5/dist-packages/sklearn/linear_model/logistic.py:460: FutureWarning: Default multi_class will be changed to 'auto' in 0.22. Specify the multi_class option to silence this warning.\n",
      "  \"this warning.\", FutureWarning)\n"
     ]
    },
    {
     "name": "stdout",
     "output_type": "stream",
     "text": [
      "0.8685\n",
      "CPU times: user 2min 27s, sys: 1.03 s, total: 2min 28s\n",
      "Wall time: 2min 28s\n"
     ]
    }
   ],
   "source": [
    "%%time\n",
    "#create logistic regression classifier using default value\n",
    "logi_regr = LogisticRegression()\n",
    "logi_regr.fit(x_train_noise_flatten, y_train)\n",
    "logi_score = logi_regr.score(x_test_noise_flatten, y_test)\n",
    "print(logi_score)"
   ]
  },
  {
   "cell_type": "code",
   "execution_count": 15,
   "metadata": {},
   "outputs": [
    {
     "name": "stdout",
     "output_type": "stream",
     "text": [
      "0.904\n",
      "CPU times: user 36min 31s, sys: 3.3 s, total: 36min 35s\n",
      "Wall time: 36min 35s\n"
     ]
    }
   ],
   "source": [
    "%%time\n",
    "svm_classifier = svm.SVC(gamma=0.001)\n",
    "svm_classifier.fit(x_train_noise_flatten,y_train)\n",
    "svm_score = svm_classifier.score(x_test_noise_flatten, y_test)\n",
    "print(svm_score)"
   ]
  },
  {
   "cell_type": "code",
   "execution_count": 12,
   "metadata": {},
   "outputs": [
    {
     "name": "stdout",
     "output_type": "stream",
     "text": [
      "The accuracy of lda on for original data is 0.8493\n",
      "CPU times: user 54.8 s, sys: 1min 6s, total: 2min 1s\n",
      "Wall time: 8.17 s\n"
     ]
    }
   ],
   "source": [
    "%%time\n",
    "lda = LinearDiscriminantAnalysis()\n",
    "lda.fit(x_train_noise_flatten, y_train)\n",
    "lda_score = lda.score(x_test_noise_flatten, y_test)\n",
    "print(\"The accuracy of lda on for original data is\",lda_score)"
   ]
  },
  {
   "cell_type": "markdown",
   "metadata": {},
   "source": [
    "### use convolutional autoencoder to denoise"
   ]
  },
  {
   "cell_type": "code",
   "execution_count": 14,
   "metadata": {},
   "outputs": [
    {
     "name": "stdout",
     "output_type": "stream",
     "text": [
      "Train on 60000 samples, validate on 10000 samples\n",
      "Epoch 1/70\n",
      " 2304/60000 [>.............................] - ETA: 5s - loss: 12.0637"
     ]
    },
    {
     "name": "stderr",
     "output_type": "stream",
     "text": [
      "/usr/local/src/incubator-mxnet/python/mxnet/module/bucketing_module.py:408: UserWarning: Optimizer created manually outside Module but rescale_grad is not normalized to 1.0/batch_size/num_workers (1.0 vs. 0.0078125). Is this intended?\n",
      "  force_init=force_init)\n"
     ]
    },
    {
     "name": "stdout",
     "output_type": "stream",
     "text": [
      "60000/60000 [==============================] - 4s 65us/step - loss: 8.7246 - val_loss: 8.1085\n",
      "Epoch 2/70\n",
      "60000/60000 [==============================] - 4s 61us/step - loss: 7.9498 - val_loss: 8.0321\n",
      "Epoch 3/70\n",
      "60000/60000 [==============================] - 4s 61us/step - loss: 7.8858 - val_loss: 7.9790\n",
      "Epoch 4/70\n",
      "60000/60000 [==============================] - 4s 68us/step - loss: 7.8529 - val_loss: 7.9626\n",
      "Epoch 5/70\n",
      "60000/60000 [==============================] - 4s 69us/step - loss: 7.8341 - val_loss: 7.9398\n",
      "Epoch 6/70\n",
      "60000/60000 [==============================] - 4s 61us/step - loss: 7.8206 - val_loss: 7.9326\n",
      "Epoch 7/70\n",
      "60000/60000 [==============================] - 4s 61us/step - loss: 7.8105 - val_loss: 7.9277\n",
      "Epoch 8/70\n",
      "60000/60000 [==============================] - 4s 62us/step - loss: 7.8030 - val_loss: 7.9212\n",
      "Epoch 9/70\n",
      "60000/60000 [==============================] - 4s 61us/step - loss: 7.7963 - val_loss: 7.9213\n",
      "Epoch 10/70\n",
      "60000/60000 [==============================] - 4s 61us/step - loss: 7.7919 - val_loss: 7.9152\n",
      "Epoch 11/70\n",
      "60000/60000 [==============================] - 4s 62us/step - loss: 7.7869 - val_loss: 7.9104\n",
      "Epoch 12/70\n",
      "60000/60000 [==============================] - 4s 61us/step - loss: 7.7843 - val_loss: 7.9032\n",
      "Epoch 13/70\n",
      "60000/60000 [==============================] - 4s 62us/step - loss: 7.7810 - val_loss: 7.9061\n",
      "Epoch 14/70\n",
      "60000/60000 [==============================] - 4s 59us/step - loss: 7.7777 - val_loss: 7.9069\n",
      "Epoch 15/70\n",
      "60000/60000 [==============================] - 4s 61us/step - loss: 7.7747 - val_loss: 7.9131\n",
      "Epoch 16/70\n",
      "60000/60000 [==============================] - 4s 64us/step - loss: 7.7726 - val_loss: 7.9038\n",
      "Epoch 17/70\n",
      "60000/60000 [==============================] - 4s 61us/step - loss: 7.7712 - val_loss: 7.8990\n",
      "Epoch 18/70\n",
      "60000/60000 [==============================] - 4s 63us/step - loss: 7.7685 - val_loss: 7.8926\n",
      "Epoch 19/70\n",
      "60000/60000 [==============================] - 4s 68us/step - loss: 7.7663 - val_loss: 7.8967\n",
      "Epoch 20/70\n",
      "60000/60000 [==============================] - 4s 68us/step - loss: 7.7651 - val_loss: 7.8929\n",
      "Epoch 21/70\n",
      "60000/60000 [==============================] - 4s 60us/step - loss: 7.7639 - val_loss: 7.8875\n",
      "Epoch 22/70\n",
      "60000/60000 [==============================] - 4s 60us/step - loss: 7.7625 - val_loss: 7.8892\n",
      "Epoch 23/70\n",
      "60000/60000 [==============================] - 4s 64us/step - loss: 7.7611 - val_loss: 7.8910\n",
      "Epoch 24/70\n",
      "60000/60000 [==============================] - 4s 65us/step - loss: 7.7601 - val_loss: 7.8962\n",
      "Epoch 25/70\n",
      "60000/60000 [==============================] - 4s 64us/step - loss: 7.7590 - val_loss: 7.8890\n",
      "Epoch 26/70\n",
      "60000/60000 [==============================] - 4s 65us/step - loss: 7.7580 - val_loss: 7.8926\n",
      "Epoch 27/70\n",
      "60000/60000 [==============================] - 4s 61us/step - loss: 7.7577 - val_loss: 7.8847\n",
      "Epoch 28/70\n",
      "60000/60000 [==============================] - 4s 61us/step - loss: 7.7556 - val_loss: 7.8863\n",
      "Epoch 29/70\n",
      "60000/60000 [==============================] - 4s 60us/step - loss: 7.7558 - val_loss: 7.8868\n",
      "Epoch 30/70\n",
      "60000/60000 [==============================] - 4s 61us/step - loss: 7.7543 - val_loss: 7.8841\n",
      "Epoch 31/70\n",
      "60000/60000 [==============================] - 4s 67us/step - loss: 7.7536 - val_loss: 7.8801\n",
      "Epoch 32/70\n",
      "60000/60000 [==============================] - 4s 60us/step - loss: 7.7528 - val_loss: 7.8797\n",
      "Epoch 33/70\n",
      "60000/60000 [==============================] - 4s 61us/step - loss: 7.7522 - val_loss: 7.8829\n",
      "Epoch 34/70\n",
      "60000/60000 [==============================] - 4s 62us/step - loss: 7.7518 - val_loss: 7.8801\n",
      "Epoch 35/70\n",
      "60000/60000 [==============================] - 4s 60us/step - loss: 7.7510 - val_loss: 7.8800\n",
      "Epoch 36/70\n",
      "60000/60000 [==============================] - 4s 61us/step - loss: 7.7508 - val_loss: 7.8857\n",
      "Epoch 37/70\n",
      "60000/60000 [==============================] - 4s 61us/step - loss: 7.7499 - val_loss: 7.8819\n",
      "Epoch 38/70\n",
      "60000/60000 [==============================] - 4s 61us/step - loss: 7.7495 - val_loss: 7.8858\n",
      "Epoch 39/70\n",
      "60000/60000 [==============================] - 4s 62us/step - loss: 7.7491 - val_loss: 7.8788\n",
      "Epoch 40/70\n",
      "60000/60000 [==============================] - 4s 60us/step - loss: 7.7489 - val_loss: 7.8796\n",
      "Epoch 41/70\n",
      "60000/60000 [==============================] - 4s 66us/step - loss: 7.7481 - val_loss: 7.8800\n",
      "Epoch 42/70\n",
      "60000/60000 [==============================] - 4s 61us/step - loss: 7.7476 - val_loss: 7.8774\n",
      "Epoch 43/70\n",
      "60000/60000 [==============================] - 4s 61us/step - loss: 7.7473 - val_loss: 7.8788\n",
      "Epoch 44/70\n",
      "60000/60000 [==============================] - 4s 61us/step - loss: 7.7472 - val_loss: 7.8769\n",
      "Epoch 45/70\n",
      "60000/60000 [==============================] - 4s 64us/step - loss: 7.7463 - val_loss: 7.8784\n",
      "Epoch 46/70\n",
      "60000/60000 [==============================] - 4s 62us/step - loss: 7.7460 - val_loss: 7.8745\n",
      "Epoch 47/70\n",
      "60000/60000 [==============================] - 4s 60us/step - loss: 7.7462 - val_loss: 7.8752\n",
      "Epoch 48/70\n",
      "60000/60000 [==============================] - 4s 61us/step - loss: 7.7454 - val_loss: 7.8782\n",
      "Epoch 49/70\n",
      "60000/60000 [==============================] - 4s 61us/step - loss: 7.7453 - val_loss: 7.8755\n",
      "Epoch 50/70\n",
      "60000/60000 [==============================] - 4s 61us/step - loss: 7.7447 - val_loss: 7.8832\n",
      "Epoch 51/70\n",
      "60000/60000 [==============================] - 4s 60us/step - loss: 7.7443 - val_loss: 7.8743\n",
      "Epoch 52/70\n",
      "60000/60000 [==============================] - 4s 60us/step - loss: 7.7441 - val_loss: 7.8839\n",
      "Epoch 53/70\n",
      "60000/60000 [==============================] - 4s 60us/step - loss: 7.7441 - val_loss: 7.8748\n",
      "Epoch 54/70\n",
      "60000/60000 [==============================] - 4s 61us/step - loss: 7.7437 - val_loss: 7.8760\n",
      "Epoch 55/70\n",
      "60000/60000 [==============================] - 4s 60us/step - loss: 7.7435 - val_loss: 7.8772\n",
      "Epoch 56/70\n",
      "60000/60000 [==============================] - 4s 61us/step - loss: 7.7435 - val_loss: 7.8731\n",
      "Epoch 57/70\n",
      "60000/60000 [==============================] - 4s 61us/step - loss: 7.7428 - val_loss: 7.8757\n",
      "Epoch 58/70\n",
      "60000/60000 [==============================] - 4s 60us/step - loss: 7.7425 - val_loss: 7.8804\n",
      "Epoch 59/70\n",
      "60000/60000 [==============================] - 4s 60us/step - loss: 7.7424 - val_loss: 7.8735\n",
      "Epoch 60/70\n",
      "60000/60000 [==============================] - 4s 62us/step - loss: 7.7418 - val_loss: 7.8732\n",
      "Epoch 61/70\n",
      "60000/60000 [==============================] - 4s 61us/step - loss: 7.7418 - val_loss: 7.8733\n",
      "Epoch 62/70\n",
      "60000/60000 [==============================] - 4s 65us/step - loss: 7.7417 - val_loss: 7.8745\n",
      "Epoch 63/70\n",
      "60000/60000 [==============================] - 4s 66us/step - loss: 7.7417 - val_loss: 7.8760\n",
      "Epoch 64/70\n",
      "60000/60000 [==============================] - 4s 62us/step - loss: 7.7414 - val_loss: 7.8733\n",
      "Epoch 65/70\n",
      "60000/60000 [==============================] - 4s 62us/step - loss: 7.7407 - val_loss: 7.8754\n",
      "Epoch 66/70\n",
      "60000/60000 [==============================] - 4s 60us/step - loss: 7.7416 - val_loss: 7.8748\n",
      "Epoch 67/70\n",
      "60000/60000 [==============================] - 4s 61us/step - loss: 7.7406 - val_loss: 7.8762\n",
      "Epoch 68/70\n",
      "60000/60000 [==============================] - 4s 60us/step - loss: 7.7405 - val_loss: 7.8741\n",
      "Epoch 69/70\n",
      "60000/60000 [==============================] - 4s 61us/step - loss: 7.7407 - val_loss: 7.8755\n",
      "Epoch 70/70\n",
      "60000/60000 [==============================] - 4s 61us/step - loss: 7.7402 - val_loss: 7.8733\n"
     ]
    },
    {
     "data": {
      "text/plain": [
       "<keras.callbacks.History at 0x7ff40c64dac8>"
      ]
     },
     "execution_count": 14,
     "metadata": {},
     "output_type": "execute_result"
    }
   ],
   "source": [
    "autoencoder = Sequential()\n",
    "autoencoder.add(Conv2D(32, (3, 3), activation='relu', padding='same'))\n",
    "autoencoder.add(MaxPooling2D((2, 2), padding='same'))\n",
    "autoencoder.add(Conv2D(32, (3, 3), activation='relu', padding='same'))\n",
    "autoencoder.add(MaxPooling2D((2, 2), padding='same'))\n",
    "autoencoder.add(Conv2D(32, (3, 3), activation='relu', padding='same'))\n",
    "autoencoder.add(UpSampling2D((2, 2)))\n",
    "autoencoder.add(Conv2D(32, (3, 3), activation='relu', padding='same'))\n",
    "autoencoder.add(UpSampling2D((2, 2)))\n",
    "autoencoder.add(Conv2D(1, (3, 3), activation='sigmoid', padding='same'))\n",
    "\n",
    "autoencoder.compile(optimizer='adadelta', loss='categorical_crossentropy')\n",
    "autoencoder.fit(x_train_noise, x_train,\n",
    "                epochs=70,\n",
    "                batch_size=128,\n",
    "                shuffle=True,\n",
    "                validation_data=(x_test_noise, x_test))"
   ]
  },
  {
   "cell_type": "code",
   "execution_count": 27,
   "metadata": {},
   "outputs": [
    {
     "name": "stdout",
     "output_type": "stream",
     "text": [
      "(60000, 1, 28, 28)\n",
      "(10000, 1, 28, 28)\n",
      "_________________________________________________________________\n",
      "Layer (type)                 Output Shape              Param #   \n",
      "=================================================================\n",
      "conv2d_6 (Conv2D)            (None, 32, 28, 28)        320       \n",
      "_________________________________________________________________\n",
      "max_pooling2d_3 (MaxPooling2 (None, 32, 14, 14)        0         \n",
      "_________________________________________________________________\n",
      "conv2d_7 (Conv2D)            (None, 32, 14, 14)        9248      \n",
      "_________________________________________________________________\n",
      "max_pooling2d_4 (MaxPooling2 (None, 32, 7, 7)          0         \n",
      "_________________________________________________________________\n",
      "conv2d_8 (Conv2D)            (None, 32, 7, 7)          9248      \n",
      "_________________________________________________________________\n",
      "up_sampling2d_3 (UpSampling2 (None, 32, 14, 14)        0         \n",
      "_________________________________________________________________\n",
      "conv2d_9 (Conv2D)            (None, 32, 14, 14)        9248      \n",
      "_________________________________________________________________\n",
      "up_sampling2d_4 (UpSampling2 (None, 32, 28, 28)        0         \n",
      "_________________________________________________________________\n",
      "conv2d_10 (Conv2D)           (None, 1, 28, 28)         289       \n",
      "=================================================================\n",
      "Total params: 28,353\n",
      "Trainable params: 28,353\n",
      "Non-trainable params: 0\n",
      "_________________________________________________________________\n"
     ]
    }
   ],
   "source": [
    "print(np.shape(x_train_noise))\n",
    "print(np.shape(x_test_noise))\n",
    "autoencoder.summary()"
   ]
  },
  {
   "cell_type": "code",
   "execution_count": 15,
   "metadata": {},
   "outputs": [
    {
     "data": {
      "image/png": "[encoded data removed]",
      "text/plain": [
       "<matplotlib.figure.Figure at 0x7ff39228c940>"
      ]
     },
     "metadata": {},
     "output_type": "display_data"
    }
   ],
   "source": [
    "x_train_denoise = autoencoder.predict(x_train_noise)\n",
    "x_test_denoise = autoencoder.predict(x_test_noise)\n",
    "num = random.randint(0,10000)\n",
    "\n",
    "plt.subplot(1, 3, 1);\n",
    "plt.imshow(x_test[num].reshape(28,28),\n",
    "           cmap ='gray')\n",
    "plt.title('original image')\n",
    "#display the same image after dimensionality reduction \n",
    "plt.subplot(1, 3, 2);\n",
    "plt.imshow(x_test_noise[num].reshape(28,28),\n",
    "           cmap ='gray')\n",
    "plt.title('add random noise')\n",
    "plt.subplot(1, 3, 3);\n",
    "plt.imshow(x_test_denoise[num].reshape(28,28),\n",
    "           cmap ='gray')\n",
    "plt.title('after denoise')\n",
    "plt.show()"
   ]
  },
  {
   "cell_type": "code",
   "execution_count": null,
   "metadata": {},
   "outputs": [],
   "source": [
    "autoencoder.summary()"
   ]
  },
  {
   "cell_type": "code",
   "execution_count": 16,
   "metadata": {},
   "outputs": [],
   "source": [
    "x_train_denoise_flatten = x_train_denoise.reshape(60000,784)\n",
    "x_test_denoise_flatten = x_test_denoise.reshape(10000,784)"
   ]
  },
  {
   "cell_type": "code",
   "execution_count": 17,
   "metadata": {},
   "outputs": [
    {
     "name": "stdout",
     "output_type": "stream",
     "text": [
      "The accuracy of random forest on test data is 0.9332\n",
      "CPU times: user 22.7 s, sys: 52 ms, total: 22.8 s\n",
      "Wall time: 22.8 s\n"
     ]
    }
   ],
   "source": [
    "%%time\n",
    "random_forest = RandomForestClassifier(n_estimators=10,bootstrap=True)\n",
    "random_forest.fit(x_train_denoise_flatten, y_train)\n",
    "score_rf_noise = random_forest.score(x_test_denoise_flatten, y_test)\n",
    "print(\"The accuracy of random forest on test data is\",score_rf_noise)"
   ]
  },
  {
   "cell_type": "code",
   "execution_count": 19,
   "metadata": {},
   "outputs": [
    {
     "name": "stderr",
     "output_type": "stream",
     "text": [
      "/usr/local/lib/python3.5/dist-packages/sklearn/linear_model/logistic.py:433: FutureWarning: Default solver will be changed to 'lbfgs' in 0.22. Specify a solver to silence this warning.\n",
      "  FutureWarning)\n",
      "/usr/local/lib/python3.5/dist-packages/sklearn/linear_model/logistic.py:460: FutureWarning: Default multi_class will be changed to 'auto' in 0.22. Specify the multi_class option to silence this warning.\n",
      "  \"this warning.\", FutureWarning)\n"
     ]
    },
    {
     "name": "stdout",
     "output_type": "stream",
     "text": [
      "0.916\n",
      "CPU times: user 10min 14s, sys: 3.57 s, total: 10min 18s\n",
      "Wall time: 10min 17s\n"
     ]
    }
   ],
   "source": [
    "%%time\n",
    "#create logistic regression classifier using default value\n",
    "logi_regr = LogisticRegression()\n",
    "logi_regr.fit(x_train_denoise_flatten, y_train)\n",
    "logi_score = logi_regr.score(x_test_denoise_flatten, y_test)\n",
    "print(logi_score)"
   ]
  },
  {
   "cell_type": "code",
   "execution_count": 20,
   "metadata": {},
   "outputs": [
    {
     "name": "stdout",
     "output_type": "stream",
     "text": [
      "0.9304\n",
      "CPU times: user 26min 43s, sys: 6.69 s, total: 26min 50s\n",
      "Wall time: 26min 45s\n"
     ]
    }
   ],
   "source": [
    "%%time\n",
    "svm_classifier = svm.SVC(gamma=0.001)\n",
    "svm_classifier.fit(x_train_denoise_flatten,y_train)\n",
    "svm_score = svm_classifier.score(x_test_denoise_flatten, y_test)\n",
    "print(svm_score)"
   ]
  },
  {
   "cell_type": "code",
   "execution_count": 18,
   "metadata": {},
   "outputs": [
    {
     "name": "stdout",
     "output_type": "stream",
     "text": [
      "The accuracy of lda on for original data is 0.876\n",
      "CPU times: user 55.5 s, sys: 1min 5s, total: 2min 1s\n",
      "Wall time: 8.68 s\n"
     ]
    }
   ],
   "source": [
    "%%time\n",
    "lda = LinearDiscriminantAnalysis()\n",
    "lda.fit(x_train_denoise_flatten, y_train)\n",
    "lda_score = lda.score(x_test_denoise_flatten, y_test)\n",
    "print(\"The accuracy of lda on for original data is\",lda_score)"
   ]
  },
  {
   "cell_type": "code",
   "execution_count": 24,
   "metadata": {},
   "outputs": [
    {
     "data": {
      "image/png": "[encoded data removed]",
      "text/plain": [
       "<matplotlib.figure.Figure at 0x7ff41687e438>"
      ]
     },
     "metadata": {},
     "output_type": "display_data"
    }
   ],
   "source": [
    "x_axis = ['original_data', 'random noise', 'denoise']\n",
    "x = range(len(x_axis))\n",
    "logistic_regression = [0.9258, 0.8685, 0.916]\n",
    "random_forest = [0.9463, 0.7042, 0.9332]\n",
    "svm = [0.9417, 0.904, 0.9304]\n",
    "LDA = [0.873, 0.8493, 0.876]\n",
    "\n",
    "plt.plot(x, logistic_regression,color='gold',linestyle='-',marker='o',label='logistic regression')\n",
    "plt.plot(x,random_forest,color='lightcoral',linestyle=':',marker='x',label='random forest')\n",
    "plt.plot(x,svm,color='mediumseagreen',linestyle='-',marker='*',label='SVM')\n",
    "plt.plot(x,LDA,color='slategrey',linestyle=':',marker='*',label='LDA')\n",
    "\n",
    "plt.xticks(x, x_axis, rotation=45)\n",
    "plt.margins(0.08)\n",
    "plt.subplots_adjust(bottom=0.15)\n",
    "plt.xlabel('data types')\n",
    "plt.ylabel('Accuracy')\n",
    "#plt.title('The plot of classification accuracies of other machine learning methods')\n",
    "plt.legend()\n",
    "plt.show()"
   ]
  },
  {
   "cell_type": "code",
   "execution_count": null,
   "metadata": {},
   "outputs": [],
   "source": []
  }
 ],
 "metadata": {
  "kernelspec": {
   "display_name": "Python 3",
   "language": "python",
   "name": "python3"
  },
  "language_info": {
   "codemirror_mode": {
    "name": "ipython",
    "version": 3
   },
   "file_extension": ".py",
   "mimetype": "text/x-python",
   "name": "python",
   "nbconvert_exporter": "python",
   "pygments_lexer": "ipython3",
   "version": "3.5.3"
  }
 },
 "nbformat": 4,
 "nbformat_minor": 2
}
